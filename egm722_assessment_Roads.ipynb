{
 "cells": [
  {
   "cell_type": "code",
   "execution_count": 31,
   "id": "96d411fe-e21e-4778-823c-c900d8fe7ec3",
   "metadata": {
    "tags": []
   },
   "outputs": [],
   "source": [
    "import os\n",
    "import geopandas as gpd"
   ]
  },
  {
   "cell_type": "code",
   "execution_count": 33,
   "id": "d364df3d-61a4-43e7-b356-c0934373aa77",
   "metadata": {
    "tags": []
   },
   "outputs": [],
   "source": [
    "counties = gpd.read_file(os.path.abspath('data/Example_Counties.shp'))\n",
    "roads = gpd.read_file(os.path.abspath('data/Example_Roads.shp'))"
   ]
  },
  {
   "cell_type": "code",
   "execution_count": 38,
   "id": "b9e1950d-bd5a-4340-882c-1d2a84918a8e",
   "metadata": {
    "tags": []
   },
   "outputs": [
    {
     "data": {
      "text/plain": [
       "array(['Unclassified', 'B Road', 'Not Classified', 'Unknown', 'A Road',\n",
       "       'Classified Unnumbered', 'Motorway'], dtype=object)"
      ]
     },
     "execution_count": 38,
     "metadata": {},
     "output_type": "execute_result"
    }
   ],
   "source": [
    "roads[\"class\"].unique()"
   ]
  },
  {
   "cell_type": "code",
   "execution_count": null,
   "id": "761b62ed-b912-4c4a-aac9-8e3220e788c3",
   "metadata": {},
   "outputs": [],
   "source": []
  }
 ],
 "metadata": {
  "kernelspec": {
   "display_name": "Python 3 (ipykernel)",
   "language": "python",
   "name": "python3"
  },
  "language_info": {
   "codemirror_mode": {
    "name": "ipython",
    "version": 3
   },
   "file_extension": ".py",
   "mimetype": "text/x-python",
   "name": "python",
   "nbconvert_exporter": "python",
   "pygments_lexer": "ipython3",
   "version": "3.11.7"
  }
 },
 "nbformat": 4,
 "nbformat_minor": 5
}
