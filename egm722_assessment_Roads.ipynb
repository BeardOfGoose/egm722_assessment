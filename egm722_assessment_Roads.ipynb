{
 "cells": [
  {
   "cell_type": "code",
   "execution_count": 9,
   "id": "96d411fe-e21e-4778-823c-c900d8fe7ec3",
   "metadata": {
    "tags": []
   },
   "outputs": [],
   "source": [
    "import os\n",
    "import geopandas as gpd"
   ]
  },
  {
   "cell_type": "code",
   "execution_count": 11,
   "id": "d364df3d-61a4-43e7-b356-c0934373aa77",
   "metadata": {
    "tags": []
   },
   "outputs": [],
   "source": [
    "counties = gpd.read_file(os.path.abspath('data/Example_Counties.shp'))\n",
    "roads = gpd.read_file(os.path.abspath('data/Example_Roads.shp'))"
   ]
  },
  {
   "cell_type": "code",
   "execution_count": 12,
   "id": "b11c2269-66c3-40be-ab24-8308164bc5b9",
   "metadata": {
    "tags": []
   },
   "outputs": [
    {
     "name": "stdout",
     "output_type": "stream",
     "text": [
      "Counties CRS: EPSG:27700\n",
      "Roads CRS: EPSG:27700\n"
     ]
    }
   ],
   "source": [
    "#This function ensures that the both the counties and the roads data is in the same CRS. Having it in BNG ensures the measurements are in metres\n",
    "#If there is an issue with the data and there isn't a CRS it will return an error message\n",
    "def ensure_bng(gdf):\n",
    "    if gdf.crs is None:\n",
    "        raise ValueError(\"GeoDataFrame has no coordinate reference system.\")\n",
    "    if gdf.crs.to_epsg() != 27700:\n",
    "        gdf = gdf.to_crs(epsg=27700)\n",
    "    return gdf\n",
    "\n",
    "counties = ensure_bng(counties)\n",
    "roads = ensure_bng(roads)\n",
    "\n",
    "print(\"Counties CRS:\", counties.crs)\n",
    "print(\"Roads CRS:\", roads.crs)"
   ]
  },
  {
   "cell_type": "code",
   "execution_count": 15,
   "id": "b9e1950d-bd5a-4340-882c-1d2a84918a8e",
   "metadata": {
    "tags": []
   },
   "outputs": [
    {
     "data": {
      "text/plain": [
       "array(['Unclassified', 'B Road', 'Not Classified', 'Unknown', 'A Road',\n",
       "       'Classified Unnumbered', 'Motorway'], dtype=object)"
      ]
     },
     "execution_count": 15,
     "metadata": {},
     "output_type": "execute_result"
    }
   ],
   "source": [
    "#The script is focussed on road lengths\n",
    "roads[\"class\"].unique()"
   ]
  },
  {
   "cell_type": "code",
   "execution_count": 17,
   "id": "761b62ed-b912-4c4a-aac9-8e3220e788c3",
   "metadata": {
    "tags": []
   },
   "outputs": [
    {
     "data": {
      "text/html": [
       "<div>\n",
       "<style scoped>\n",
       "    .dataframe tbody tr th:only-of-type {\n",
       "        vertical-align: middle;\n",
       "    }\n",
       "\n",
       "    .dataframe tbody tr th {\n",
       "        vertical-align: top;\n",
       "    }\n",
       "\n",
       "    .dataframe thead th {\n",
       "        text-align: right;\n",
       "    }\n",
       "</style>\n",
       "<table border=\"1\" class=\"dataframe\">\n",
       "  <thead>\n",
       "    <tr style=\"text-align: right;\">\n",
       "      <th></th>\n",
       "      <th>fictitious</th>\n",
       "      <th>identifier</th>\n",
       "      <th>class</th>\n",
       "      <th>roadNumber</th>\n",
       "      <th>name1</th>\n",
       "      <th>name1_lang</th>\n",
       "      <th>name2</th>\n",
       "      <th>name2_lang</th>\n",
       "      <th>formOfWay</th>\n",
       "      <th>length</th>\n",
       "      <th>...</th>\n",
       "      <th>loop</th>\n",
       "      <th>startNode</th>\n",
       "      <th>endNode</th>\n",
       "      <th>structure</th>\n",
       "      <th>nameTOID</th>\n",
       "      <th>numberTOID</th>\n",
       "      <th>function</th>\n",
       "      <th>Shape_Leng</th>\n",
       "      <th>geometry</th>\n",
       "      <th>Length</th>\n",
       "    </tr>\n",
       "  </thead>\n",
       "  <tbody>\n",
       "    <tr>\n",
       "      <th>0</th>\n",
       "      <td>false</td>\n",
       "      <td>8188A438-736C-48B6-AD7D-60C4230067B3</td>\n",
       "      <td>Unclassified</td>\n",
       "      <td>None</td>\n",
       "      <td>Osborne Road</td>\n",
       "      <td>None</td>\n",
       "      <td>None</td>\n",
       "      <td>None</td>\n",
       "      <td>Single Carriageway</td>\n",
       "      <td>9</td>\n",
       "      <td>...</td>\n",
       "      <td>false</td>\n",
       "      <td>0785B41F-C939-4C51-BC4E-A0C1F26584B4</td>\n",
       "      <td>68DF4DC8-6D77-4C31-83A7-1721D3FD2FE8</td>\n",
       "      <td>None</td>\n",
       "      <td>osgb4000000026192642</td>\n",
       "      <td>None</td>\n",
       "      <td>Local Road</td>\n",
       "      <td>9.136214</td>\n",
       "      <td>LINESTRING Z (424487.580 95184.030 0.000, 4244...</td>\n",
       "      <td>9.136214</td>\n",
       "    </tr>\n",
       "    <tr>\n",
       "      <th>1</th>\n",
       "      <td>false</td>\n",
       "      <td>6F3EDCFA-66FB-4D28-BF29-8DB94E529B90</td>\n",
       "      <td>Unclassified</td>\n",
       "      <td>None</td>\n",
       "      <td>Heath Road South</td>\n",
       "      <td>None</td>\n",
       "      <td>None</td>\n",
       "      <td>None</td>\n",
       "      <td>Single Carriageway</td>\n",
       "      <td>49</td>\n",
       "      <td>...</td>\n",
       "      <td>false</td>\n",
       "      <td>174C446A-84D4-4696-A45D-8563840BC4B8</td>\n",
       "      <td>8FA9B49B-FC2A-4257-A4C8-91D517ED246E</td>\n",
       "      <td>None</td>\n",
       "      <td>osgb4000000023480557</td>\n",
       "      <td>None</td>\n",
       "      <td>Local Road</td>\n",
       "      <td>49.477268</td>\n",
       "      <td>LINESTRING Z (450801.000 107142.000 0.000, 450...</td>\n",
       "      <td>49.477268</td>\n",
       "    </tr>\n",
       "    <tr>\n",
       "      <th>2</th>\n",
       "      <td>false</td>\n",
       "      <td>41978D52-1BC0-4075-9DA7-20B6692ABF9B</td>\n",
       "      <td>Unclassified</td>\n",
       "      <td>None</td>\n",
       "      <td>Fairmead Way</td>\n",
       "      <td>None</td>\n",
       "      <td>None</td>\n",
       "      <td>None</td>\n",
       "      <td>Single Carriageway</td>\n",
       "      <td>111</td>\n",
       "      <td>...</td>\n",
       "      <td>false</td>\n",
       "      <td>87215455-A1C4-4883-AA2A-D380DE57A53A</td>\n",
       "      <td>BEA39A4A-6648-43FB-8B7D-5D5B5AF349DE</td>\n",
       "      <td>None</td>\n",
       "      <td>osgb4000000023491737</td>\n",
       "      <td>None</td>\n",
       "      <td>Local Road</td>\n",
       "      <td>111.097283</td>\n",
       "      <td>LINESTRING Z (435004.000 112051.000 0.000, 435...</td>\n",
       "      <td>111.097283</td>\n",
       "    </tr>\n",
       "    <tr>\n",
       "      <th>3</th>\n",
       "      <td>false</td>\n",
       "      <td>35DF496F-23BE-4BAB-A99F-E763AEE8A5C8</td>\n",
       "      <td>Unclassified</td>\n",
       "      <td>None</td>\n",
       "      <td>Broadlands Avenue</td>\n",
       "      <td>None</td>\n",
       "      <td>None</td>\n",
       "      <td>None</td>\n",
       "      <td>Single Carriageway</td>\n",
       "      <td>33</td>\n",
       "      <td>...</td>\n",
       "      <td>false</td>\n",
       "      <td>AD6C8EF8-D3FB-48C0-8854-AD6BC4833747</td>\n",
       "      <td>CD012A12-1600-44FF-B564-3DE755412BF4</td>\n",
       "      <td>None</td>\n",
       "      <td>osgb4000000023472199</td>\n",
       "      <td>None</td>\n",
       "      <td>Local Road</td>\n",
       "      <td>32.679797</td>\n",
       "      <td>LINESTRING Z (445233.000 120441.000 0.000, 445...</td>\n",
       "      <td>32.679797</td>\n",
       "    </tr>\n",
       "    <tr>\n",
       "      <th>4</th>\n",
       "      <td>false</td>\n",
       "      <td>CF33B58C-F8F2-48A8-85E4-3FBA49DFED80</td>\n",
       "      <td>B Road</td>\n",
       "      <td>B3058</td>\n",
       "      <td>Park Lane</td>\n",
       "      <td>None</td>\n",
       "      <td>None</td>\n",
       "      <td>None</td>\n",
       "      <td>Single Carriageway</td>\n",
       "      <td>245</td>\n",
       "      <td>...</td>\n",
       "      <td>false</td>\n",
       "      <td>83C95533-1B19-4229-9787-B2EFA07346D4</td>\n",
       "      <td>AC9C46EE-BB17-463F-B04B-61E3C7A89003</td>\n",
       "      <td>None</td>\n",
       "      <td>osgb4000000026192699</td>\n",
       "      <td>osgb4000000026200664</td>\n",
       "      <td>B Road</td>\n",
       "      <td>244.663728</td>\n",
       "      <td>LINESTRING Z (428527.610 91670.730 0.000, 4285...</td>\n",
       "      <td>244.663728</td>\n",
       "    </tr>\n",
       "  </tbody>\n",
       "</table>\n",
       "<p>5 rows × 22 columns</p>\n",
       "</div>"
      ],
      "text/plain": [
       "  fictitious                            identifier         class roadNumber  \\\n",
       "0      false  8188A438-736C-48B6-AD7D-60C4230067B3  Unclassified       None   \n",
       "1      false  6F3EDCFA-66FB-4D28-BF29-8DB94E529B90  Unclassified       None   \n",
       "2      false  41978D52-1BC0-4075-9DA7-20B6692ABF9B  Unclassified       None   \n",
       "3      false  35DF496F-23BE-4BAB-A99F-E763AEE8A5C8  Unclassified       None   \n",
       "4      false  CF33B58C-F8F2-48A8-85E4-3FBA49DFED80        B Road      B3058   \n",
       "\n",
       "               name1 name1_lang name2 name2_lang           formOfWay  length  \\\n",
       "0       Osborne Road       None  None       None  Single Carriageway       9   \n",
       "1   Heath Road South       None  None       None  Single Carriageway      49   \n",
       "2       Fairmead Way       None  None       None  Single Carriageway     111   \n",
       "3  Broadlands Avenue       None  None       None  Single Carriageway      33   \n",
       "4          Park Lane       None  None       None  Single Carriageway     245   \n",
       "\n",
       "   ...   loop                             startNode  \\\n",
       "0  ...  false  0785B41F-C939-4C51-BC4E-A0C1F26584B4   \n",
       "1  ...  false  174C446A-84D4-4696-A45D-8563840BC4B8   \n",
       "2  ...  false  87215455-A1C4-4883-AA2A-D380DE57A53A   \n",
       "3  ...  false  AD6C8EF8-D3FB-48C0-8854-AD6BC4833747   \n",
       "4  ...  false  83C95533-1B19-4229-9787-B2EFA07346D4   \n",
       "\n",
       "                                endNode structure              nameTOID  \\\n",
       "0  68DF4DC8-6D77-4C31-83A7-1721D3FD2FE8      None  osgb4000000026192642   \n",
       "1  8FA9B49B-FC2A-4257-A4C8-91D517ED246E      None  osgb4000000023480557   \n",
       "2  BEA39A4A-6648-43FB-8B7D-5D5B5AF349DE      None  osgb4000000023491737   \n",
       "3  CD012A12-1600-44FF-B564-3DE755412BF4      None  osgb4000000023472199   \n",
       "4  AC9C46EE-BB17-463F-B04B-61E3C7A89003      None  osgb4000000026192699   \n",
       "\n",
       "             numberTOID    function  Shape_Leng  \\\n",
       "0                  None  Local Road    9.136214   \n",
       "1                  None  Local Road   49.477268   \n",
       "2                  None  Local Road  111.097283   \n",
       "3                  None  Local Road   32.679797   \n",
       "4  osgb4000000026200664      B Road  244.663728   \n",
       "\n",
       "                                            geometry      Length  \n",
       "0  LINESTRING Z (424487.580 95184.030 0.000, 4244...    9.136214  \n",
       "1  LINESTRING Z (450801.000 107142.000 0.000, 450...   49.477268  \n",
       "2  LINESTRING Z (435004.000 112051.000 0.000, 435...  111.097283  \n",
       "3  LINESTRING Z (445233.000 120441.000 0.000, 445...   32.679797  \n",
       "4  LINESTRING Z (428527.610 91670.730 0.000, 4285...  244.663728  \n",
       "\n",
       "[5 rows x 22 columns]"
      ]
     },
     "execution_count": 17,
     "metadata": {},
     "output_type": "execute_result"
    }
   ],
   "source": [
    "#\n",
    "for index, row in roads.iterrows():\n",
    "    roads.loc[index, 'Length'] = row['geometry'].length\n",
    "    \n",
    "roads.head()"
   ]
  },
  {
   "cell_type": "code",
   "execution_count": 50,
   "id": "a78cdb9b-0e04-4c38-b5fc-1cc5740131ed",
   "metadata": {
    "tags": []
   },
   "outputs": [
    {
     "name": "stdout",
     "output_type": "stream",
     "text": [
      "12720574.90 total m of all roads\n",
      "172924.88 total m of motorway\n",
      "886134.88 total m of A roads\n",
      "582808.56 total m of B roads\n",
      "2030827.04 total m of classified unnumbered roads\n"
     ]
    }
   ],
   "source": [
    "sum_total_roads = roads['Length'].sum()\n",
    "sum_motorway = roads[roads['class'] == 'Motorway']['Length'].sum()\n",
    "sum_a_road = roads[roads['class'] == 'A Road']['Length'].sum()\n",
    "sum_b_road = roads[roads['class'] == 'B Road']['Length'].sum()\n",
    "sum_class_unnum = roads[roads['class'] == 'Classified Unnumbered']['Length'].sum()\n",
    "print(f'{sum_total_roads:.2f} total m of all roads')\n",
    "print(f'{sum_motorway:.2f} total m of motorway')\n",
    "print(f'{sum_a_road:.2f} total m of A roads')\n",
    "print(f'{sum_b_road:.2f} total m of B roads')\n",
    "print(f'{sum_class_unnum:.2f} total m of classified unnumbered roads')"
   ]
  },
  {
   "cell_type": "code",
   "execution_count": null,
   "id": "59f9e7d2-6a97-41f0-8bcc-8f86432d27f7",
   "metadata": {},
   "outputs": [],
   "source": []
  }
 ],
 "metadata": {
  "kernelspec": {
   "display_name": "Python 3 (ipykernel)",
   "language": "python",
   "name": "python3"
  },
  "language_info": {
   "codemirror_mode": {
    "name": "ipython",
    "version": 3
   },
   "file_extension": ".py",
   "mimetype": "text/x-python",
   "name": "python",
   "nbconvert_exporter": "python",
   "pygments_lexer": "ipython3",
   "version": "3.11.7"
  }
 },
 "nbformat": 4,
 "nbformat_minor": 5
}
