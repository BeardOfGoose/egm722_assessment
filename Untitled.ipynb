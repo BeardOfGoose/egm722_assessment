{
 "cells": [
  {
   "cell_type": "code",
   "execution_count": 4,
   "id": "4cd7abd9-933a-4d59-8003-e27f42e7d8e9",
   "metadata": {
    "tags": []
   },
   "outputs": [
    {
     "name": "stderr",
     "output_type": "stream",
     "text": [
      "C:\\Users\\edgos\\anaconda3\\Lib\\site-packages\\IPython\\core\\interactiveshell.py:3493: FutureWarning: The `op` parameter is deprecated and will be removed in a future release. Please use the `predicate` parameter instead.\n",
      "  if await self.run_code(code, result, async_=asy):\n"
     ]
    },
    {
     "ename": "TypeError",
     "evalue": "GeoJson.__init__() got an unexpected keyword argument 'style_func'",
     "output_type": "error",
     "traceback": [
      "\u001b[1;31m---------------------------------------------------------------------------\u001b[0m",
      "\u001b[1;31mTypeError\u001b[0m                                 Traceback (most recent call last)",
      "Cell \u001b[1;32mIn[4], line 53\u001b[0m\n\u001b[0;32m     43\u001b[0m counties\u001b[38;5;241m.\u001b[39mexplore(\n\u001b[0;32m     44\u001b[0m     m\u001b[38;5;241m=\u001b[39mm,\n\u001b[0;32m     45\u001b[0m     color\u001b[38;5;241m=\u001b[39m\u001b[38;5;124m'\u001b[39m\u001b[38;5;124mblue\u001b[39m\u001b[38;5;124m'\u001b[39m,\n\u001b[1;32m   (...)\u001b[0m\n\u001b[0;32m     49\u001b[0m     highlight\u001b[38;5;241m=\u001b[39m\u001b[38;5;28;01mTrue\u001b[39;00m\n\u001b[0;32m     50\u001b[0m )\n\u001b[0;32m     52\u001b[0m \u001b[38;5;66;03m# Adding the roads within the specific county, with custom properties\u001b[39;00m\n\u001b[1;32m---> 53\u001b[0m roads_in_county\u001b[38;5;241m.\u001b[39mexplore(\n\u001b[0;32m     54\u001b[0m     m\u001b[38;5;241m=\u001b[39mm,\n\u001b[0;32m     55\u001b[0m     style_func\u001b[38;5;241m=\u001b[39m\u001b[38;5;28;01mlambda\u001b[39;00m feature: {\n\u001b[0;32m     56\u001b[0m         \u001b[38;5;124m'\u001b[39m\u001b[38;5;124mcolor\u001b[39m\u001b[38;5;124m'\u001b[39m: class_properties\u001b[38;5;241m.\u001b[39mget(feature[\u001b[38;5;124m'\u001b[39m\u001b[38;5;124mproperties\u001b[39m\u001b[38;5;124m'\u001b[39m][\u001b[38;5;124m'\u001b[39m\u001b[38;5;124mclass\u001b[39m\u001b[38;5;124m'\u001b[39m], {\u001b[38;5;124m'\u001b[39m\u001b[38;5;124mcolor\u001b[39m\u001b[38;5;124m'\u001b[39m: \u001b[38;5;124m'\u001b[39m\u001b[38;5;124m#000000\u001b[39m\u001b[38;5;124m'\u001b[39m})[\u001b[38;5;124m'\u001b[39m\u001b[38;5;124mcolor\u001b[39m\u001b[38;5;124m'\u001b[39m],\n\u001b[0;32m     57\u001b[0m         \u001b[38;5;124m'\u001b[39m\u001b[38;5;124mweight\u001b[39m\u001b[38;5;124m'\u001b[39m: class_properties\u001b[38;5;241m.\u001b[39mget(feature[\u001b[38;5;124m'\u001b[39m\u001b[38;5;124mproperties\u001b[39m\u001b[38;5;124m'\u001b[39m][\u001b[38;5;124m'\u001b[39m\u001b[38;5;124mclass\u001b[39m\u001b[38;5;124m'\u001b[39m], {\u001b[38;5;124m'\u001b[39m\u001b[38;5;124mweight\u001b[39m\u001b[38;5;124m'\u001b[39m: \u001b[38;5;241m1\u001b[39m})[\u001b[38;5;124m'\u001b[39m\u001b[38;5;124mweight\u001b[39m\u001b[38;5;124m'\u001b[39m]\n\u001b[0;32m     58\u001b[0m     },\n\u001b[0;32m     59\u001b[0m     name\u001b[38;5;241m=\u001b[39m\u001b[38;5;124m'\u001b[39m\u001b[38;5;124mRoads in County\u001b[39m\u001b[38;5;124m'\u001b[39m,\n\u001b[0;32m     60\u001b[0m     tooltip\u001b[38;5;241m=\u001b[39m\u001b[38;5;124m'\u001b[39m\u001b[38;5;124mclass\u001b[39m\u001b[38;5;124m'\u001b[39m,\n\u001b[0;32m     61\u001b[0m     highlight\u001b[38;5;241m=\u001b[39m\u001b[38;5;28;01mTrue\u001b[39;00m\n\u001b[0;32m     62\u001b[0m )\n\u001b[0;32m     64\u001b[0m \u001b[38;5;66;03m# Add layer control to toggle layers\u001b[39;00m\n\u001b[0;32m     65\u001b[0m folium\u001b[38;5;241m.\u001b[39mLayerControl()\u001b[38;5;241m.\u001b[39madd_to(m)\n",
      "File \u001b[1;32m~\\anaconda3\\Lib\\site-packages\\geopandas\\geodataframe.py:2113\u001b[0m, in \u001b[0;36mGeoDataFrame.explore\u001b[1;34m(self, *args, **kwargs)\u001b[0m\n\u001b[0;32m   2111\u001b[0m \u001b[38;5;129m@doc\u001b[39m(_explore)\n\u001b[0;32m   2112\u001b[0m \u001b[38;5;28;01mdef\u001b[39;00m \u001b[38;5;21mexplore\u001b[39m(\u001b[38;5;28mself\u001b[39m, \u001b[38;5;241m*\u001b[39margs, \u001b[38;5;241m*\u001b[39m\u001b[38;5;241m*\u001b[39mkwargs):\n\u001b[1;32m-> 2113\u001b[0m     \u001b[38;5;28;01mreturn\u001b[39;00m _explore(\u001b[38;5;28mself\u001b[39m, \u001b[38;5;241m*\u001b[39margs, \u001b[38;5;241m*\u001b[39m\u001b[38;5;241m*\u001b[39mkwargs)\n",
      "File \u001b[1;32m~\\anaconda3\\Lib\\site-packages\\geopandas\\explore.py:635\u001b[0m, in \u001b[0;36m_explore\u001b[1;34m(df, column, cmap, color, m, tiles, attr, tooltip, popup, highlight, categorical, legend, scheme, k, vmin, vmax, width, height, categories, classification_kwds, control_scale, marker_type, marker_kwds, style_kwds, highlight_kwds, missing_kwds, tooltip_kwds, popup_kwds, legend_kwds, map_kwds, **kwargs)\u001b[0m\n\u001b[0;32m    628\u001b[0m             feature[\u001b[38;5;124m\"\u001b[39m\u001b[38;5;124mproperties\u001b[39m\u001b[38;5;124m\"\u001b[39m][k] \u001b[38;5;241m=\u001b[39m re\u001b[38;5;241m.\u001b[39msub(\n\u001b[0;32m    629\u001b[0m                 \u001b[38;5;124mr\u001b[39m\u001b[38;5;124m\"\u001b[39m\u001b[38;5;124m\\\u001b[39m\u001b[38;5;124m{{\u001b[39m\u001b[38;5;124m2,}\u001b[39m\u001b[38;5;124m\"\u001b[39m,\n\u001b[0;32m    630\u001b[0m                 \u001b[38;5;28;01mlambda\u001b[39;00m x: \u001b[38;5;124m\"\u001b[39m\u001b[38;5;124m{\u001b[39m\u001b[38;5;132;01m% r\u001b[39;00m\u001b[38;5;124maw \u001b[39m\u001b[38;5;124m%\u001b[39m\u001b[38;5;124m}\u001b[39m\u001b[38;5;124m\"\u001b[39m \u001b[38;5;241m+\u001b[39m x\u001b[38;5;241m.\u001b[39mgroup(\u001b[38;5;241m0\u001b[39m) \u001b[38;5;241m+\u001b[39m \u001b[38;5;124m\"\u001b[39m\u001b[38;5;124m{\u001b[39m\u001b[38;5;132;01m% e\u001b[39;00m\u001b[38;5;124mndraw \u001b[39m\u001b[38;5;124m%\u001b[39m\u001b[38;5;124m}\u001b[39m\u001b[38;5;124m\"\u001b[39m,\n\u001b[0;32m    631\u001b[0m                 feature[\u001b[38;5;124m\"\u001b[39m\u001b[38;5;124mproperties\u001b[39m\u001b[38;5;124m\"\u001b[39m][k],\n\u001b[0;32m    632\u001b[0m             )\n\u001b[0;32m    634\u001b[0m \u001b[38;5;66;03m# add dataframe to map\u001b[39;00m\n\u001b[1;32m--> 635\u001b[0m folium\u001b[38;5;241m.\u001b[39mGeoJson(\n\u001b[0;32m    636\u001b[0m     feature_collection,\n\u001b[0;32m    637\u001b[0m     tooltip\u001b[38;5;241m=\u001b[39mtooltip,\n\u001b[0;32m    638\u001b[0m     popup\u001b[38;5;241m=\u001b[39mpopup,\n\u001b[0;32m    639\u001b[0m     marker\u001b[38;5;241m=\u001b[39mmarker,\n\u001b[0;32m    640\u001b[0m     style_function\u001b[38;5;241m=\u001b[39mstyle_function,\n\u001b[0;32m    641\u001b[0m     highlight_function\u001b[38;5;241m=\u001b[39mhighlight_function,\n\u001b[0;32m    642\u001b[0m     \u001b[38;5;241m*\u001b[39m\u001b[38;5;241m*\u001b[39mkwargs,\n\u001b[0;32m    643\u001b[0m )\u001b[38;5;241m.\u001b[39madd_to(m)\n\u001b[0;32m    645\u001b[0m \u001b[38;5;28;01mif\u001b[39;00m legend:\n\u001b[0;32m    646\u001b[0m     \u001b[38;5;66;03m# NOTE: overlaps will be resolved in branca #88\u001b[39;00m\n\u001b[0;32m    647\u001b[0m     caption \u001b[38;5;241m=\u001b[39m column \u001b[38;5;28;01mif\u001b[39;00m \u001b[38;5;129;01mnot\u001b[39;00m column \u001b[38;5;241m==\u001b[39m \u001b[38;5;124m\"\u001b[39m\u001b[38;5;124m__plottable_column\u001b[39m\u001b[38;5;124m\"\u001b[39m \u001b[38;5;28;01melse\u001b[39;00m \u001b[38;5;124m\"\u001b[39m\u001b[38;5;124m\"\u001b[39m\n",
      "\u001b[1;31mTypeError\u001b[0m: GeoJson.__init__() got an unexpected keyword argument 'style_func'"
     ]
    }
   ],
   "source": [
    "import geopandas as gpd\n",
    "import os\n",
    "import folium\n",
    "\n",
    "# Load the shapefiles\n",
    "counties = gpd.read_file(os.path.abspath('data/Example_Counties.shp'))\n",
    "roads = gpd.read_file(os.path.abspath('data/Example_Roads.shp'))\n",
    "\n",
    "# Ensure GeoDataFrame is in British National Grid (EPSG:27700)\n",
    "def ensure_bng(gdf):\n",
    "    if gdf.crs is None:\n",
    "        raise ValueError(\"GeoDataFrame has no CRS. Please define a CRS.\")\n",
    "    if gdf.crs.to_epsg() != 27700:\n",
    "        gdf = gdf.to_crs(epsg=27700)\n",
    "    return gdf\n",
    "\n",
    "# Convert both GeoDataFrames to EPSG:27700\n",
    "counties = ensure_bng(counties)\n",
    "roads = ensure_bng(roads)\n",
    "\n",
    "# Filter roads within a specific county\n",
    "county_name = 'Hampshire'  # Change this to the name of your target county\n",
    "target_county = counties[counties['CTYUA23NM'] == county_name]  # Assuming there's a 'Name' column\n",
    "\n",
    "if target_county.empty:\n",
    "    raise ValueError(\"No county found with the specified name. Please check your county names.\")\n",
    "\n",
    "# Perform a spatial join to find roads within the target county\n",
    "roads_in_county = gpd.sjoin(roads, target_county, how='inner', predicate='intersects')\n",
    "\n",
    "# Define custom properties (color and weight) for each road class\n",
    "class_properties = {\n",
    "    'Highway': {'color': '#ff0000', 'weight': 5},\n",
    "    'Main Road': {'color': '#00ff00', 'weight': 4},\n",
    "    'Secondary Road': {'color': '#0000ff', 'weight': 3},\n",
    "    'Local Road': {'color': '#ffa500', 'weight': 2}\n",
    "}\n",
    "\n",
    "# Base map to add layers to\n",
    "m = folium.Map()\n",
    "\n",
    "# Adding the county layer\n",
    "counties.explore(\n",
    "    m=m,\n",
    "    color='blue',\n",
    "    name='Counties',\n",
    "    tooltip='Name',\n",
    "    style_kwds={'fillOpacity': 0.3},\n",
    "    highlight=True\n",
    ")\n",
    "\n",
    "# Adding the roads within the specific county, with custom properties\n",
    "roads_in_county.explore(\n",
    "    m=m,\n",
    "    style_function=lambda feature: {\n",
    "        'color': class_properties.get(feature['properties']['class'], {'color': '#000000'})['color'],\n",
    "        'weight': class_properties.get(feature['properties']['class'], {'weight': 1})['weight']\n",
    "    },\n",
    "    name='Roads in County',\n",
    "    tooltip='class',\n",
    "    highlight=True\n",
    ")\n",
    "\n",
    "# Add layer control to toggle layers\n",
    "folium.LayerControl().add_to(m)\n",
    "\n",
    "# Display the map\n",
    "m"
   ]
  },
  {
   "cell_type": "code",
   "execution_count": null,
   "id": "2cf3d7a4-894a-4d9f-88c8-12b5c3010e2e",
   "metadata": {},
   "outputs": [],
   "source": []
  }
 ],
 "metadata": {
  "kernelspec": {
   "display_name": "Python 3 (ipykernel)",
   "language": "python",
   "name": "python3"
  },
  "language_info": {
   "codemirror_mode": {
    "name": "ipython",
    "version": 3
   },
   "file_extension": ".py",
   "mimetype": "text/x-python",
   "name": "python",
   "nbconvert_exporter": "python",
   "pygments_lexer": "ipython3",
   "version": "3.11.7"
  }
 },
 "nbformat": 4,
 "nbformat_minor": 5
}
